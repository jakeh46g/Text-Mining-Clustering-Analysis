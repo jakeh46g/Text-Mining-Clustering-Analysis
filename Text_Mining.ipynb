{
  "nbformat": 4,
  "nbformat_minor": 0,
  "metadata": {
    "colab": {
      "provenance": [],
      "authorship_tag": "ABX9TyNHPseiuri4MXUywvrQuZyK",
      "include_colab_link": true
    },
    "kernelspec": {
      "name": "python3",
      "display_name": "Python 3"
    },
    "language_info": {
      "name": "python"
    }
  },
  "cells": [
    {
      "cell_type": "markdown",
      "metadata": {
        "id": "view-in-github",
        "colab_type": "text"
      },
      "source": [
        "<a href=\"https://colab.research.google.com/github/jakeh46g/Text-Mining-Clustering-Analysis/blob/main/Text_Mining.ipynb\" target=\"_parent\"><img src=\"https://colab.research.google.com/assets/colab-badge.svg\" alt=\"Open In Colab\"/></a>"
      ]
    },
    {
      "cell_type": "code",
      "source": [
        "from google.colab import drive\n",
        "drive.mount('/content/drive')"
      ],
      "metadata": {
        "colab": {
          "base_uri": "https://localhost:8080/"
        },
        "id": "qIUK6Rs-T0Ay",
        "outputId": "689f3094-d087-4a2c-a7a7-a8139b3ae7be"
      },
      "execution_count": 1,
      "outputs": [
        {
          "output_type": "stream",
          "name": "stdout",
          "text": [
            "Mounted at /content/drive\n"
          ]
        }
      ]
    },
    {
      "cell_type": "code",
      "execution_count": 2,
      "metadata": {
        "id": "geFCyHOVYpwU"
      },
      "outputs": [],
      "source": [
        "import pandas as pd\n",
        "import numpy as np\n",
        "import matplotlib.pyplot as plt\n",
        "from sklearn.feature_extraction.text import CountVectorizer\n",
        "from sklearn.cluster import AgglomerativeClustering\n",
        "from scipy.cluster.hierarchy import dendrogram, linkage\n",
        "from sklearn.feature_extraction.text import ENGLISH_STOP_WORDS\n",
        "import re"
      ]
    },
    {
      "cell_type": "code",
      "source": [
        "# Load text file and resolve formatting issues\n",
        "with open(\"/content/drive/MyDrive/Colab Notebooks/data/airlinetweets.csv\", \"r\", encoding=\"utf-8\") as file:\n",
        "   comments = [re.sub(r'[^a-zA-Z\\s]', '', line.strip().lower()) for line in file.readlines() if line.strip()]"
      ],
      "metadata": {
        "id": "jo5f5MPyYysc"
      },
      "execution_count": 7,
      "outputs": []
    },
    {
      "cell_type": "code",
      "source": [
        "# Convert text to binary term-document matrix for top 5 terms\n",
        "vectorizer = CountVectorizer(stop_words='english', max_features=5, binary=True)\n",
        "binary_matrix = vectorizer.fit_transform(comments).toarray()\n",
        "terms = vectorizer.get_feature_names_out()"
      ],
      "metadata": {
        "id": "FGMfrvE0ZTZO"
      },
      "execution_count": 8,
      "outputs": []
    },
    {
      "cell_type": "code",
      "source": [
        "# Convert matrix to DataFrame for top 5 terms\n",
        "binary_df = pd.DataFrame(binary_matrix, columns=terms)\n",
        "print(\"Binary Term-Document Matrix (Top 5 terms):\")\n",
        "print(binary_df)\n",
        "# Top 5 terms are agent, bag, flight, gate, rude"
      ],
      "metadata": {
        "colab": {
          "base_uri": "https://localhost:8080/"
        },
        "collapsed": true,
        "id": "XRe22O1_ZZw9",
        "outputId": "f1b803c9-4640-48ce-80eb-5f259a51e7ed"
      },
      "execution_count": 9,
      "outputs": [
        {
          "output_type": "stream",
          "name": "stdout",
          "text": [
            "Binary Term-Document Matrix (Top 5 terms):\n",
            "    agent  bag  flight  gate  rude\n",
            "0       0    0       0     0     1\n",
            "1       0    1       1     0     0\n",
            "2       1    0       0     0     0\n",
            "3       0    0       0     0     0\n",
            "4       1    0       0     1     1\n",
            "5       1    0       1     1     1\n",
            "6       0    0       1     0     1\n",
            "7       0    1       0     1     0\n",
            "8       0    1       0     0     0\n",
            "9       0    0       0     0     0\n",
            "10      0    0       0     0     0\n",
            "11      0    1       1     0     0\n",
            "12      0    1       0     0     0\n",
            "13      0    0       0     0     0\n",
            "14      0    0       0     0     0\n",
            "15      0    0       0     0     1\n",
            "16      1    0       1     1     0\n",
            "17      0    0       0     0     0\n",
            "18      0    0       1     0     0\n",
            "19      0    0       1     0     0\n",
            "20      0    0       0     1     0\n",
            "21      0    0       1     0     1\n",
            "22      0    1       0     0     0\n",
            "23      0    0       0     0     0\n",
            "24      1    0       0     1     0\n",
            "25      1    0       1     1     0\n",
            "26      0    0       1     0     0\n",
            "27      0    0       0     0     0\n",
            "28      0    0       0     0     0\n",
            "29      0    0       0     0     0\n",
            "30      0    0       0     0     0\n",
            "31      0    0       1     0     0\n",
            "32      0    0       0     0     0\n",
            "33      0    0       0     0     0\n",
            "34      0    0       1     0     0\n",
            "35      0    0       0     0     0\n"
          ]
        }
      ]
    },
    {
      "cell_type": "code",
      "source": [
        "# Compute linkage for hierarchical clustering\n",
        "linkage_matrix = linkage(binary_matrix, method='ward')"
      ],
      "metadata": {
        "id": "rRtEXk6yg2a1"
      },
      "execution_count": 10,
      "outputs": []
    },
    {
      "cell_type": "code",
      "source": [
        "# Plot dendrogram to visualize clustering\n",
        "plt.figure(figsize=(10, 7))\n",
        "plt.title('Hierarchical Clustering Dendrogram')\n",
        "dendrogram(linkage_matrix, labels=np.arange(len(comments)), leaf_rotation=90, leaf_font_size=10)\n",
        "plt.xlabel(\"Customer Comments\")\n",
        "plt.ylabel(\"Distance\")\n",
        "plt.show()"
      ],
      "metadata": {
        "colab": {
          "base_uri": "https://localhost:8080/",
          "height": 645
        },
        "id": "6qwUNXs9glM8",
        "outputId": "c546bde9-d859-4ba1-e090-6e0fa6414a7e"
      },
      "execution_count": 11,
      "outputs": [
        {
          "output_type": "display_data",
          "data": {
            "text/plain": [
              "<Figure size 1000x700 with 1 Axes>"
            ],
            "image/png": "[encoded data removed]"
          },
          "metadata": {}
        }
      ]
    },
    {
      "cell_type": "code",
      "source": [
        "cluster = AgglomerativeClustering(n_clusters=4, metric='euclidean', linkage='ward')\n",
        "labels = cluster.fit_predict(binary_matrix)"
      ],
      "metadata": {
        "id": "t7IXbzNNhXtk"
      },
      "execution_count": 12,
      "outputs": []
    },
    {
      "cell_type": "code",
      "source": [
        "results_df = pd.DataFrame({\n",
        "    'Comment': comments,\n",
        "    'Cluster': labels\n",
        "})\n",
        "print(\"\\nCustomer Comments with Cluster Labels:\")\n",
        "print(results_df.sort_values(by='Cluster'))\n",
        "\n",
        "# Cluster 0 includes comments about flights\n",
        "# Cluster 1 includes comment about rude staff inlcuding gate agents\n",
        "# Cluster 2 inlcudes comments about lost or mishandled bags/luggage\n",
        "# Cluster 3 includes miscellaneous comments\n",
        "# Management could use these clusters to direct comments to the approriate team. For example, separating comments between on-flight staff and gate staff\n"
      ],
      "metadata": {
        "colab": {
          "base_uri": "https://localhost:8080/"
        },
        "id": "SO2alKXKhUDW",
        "outputId": "6127923f-8968-4ffe-ece0-b04fe359e7d3"
      },
      "execution_count": 13,
      "outputs": [
        {
          "output_type": "stream",
          "name": "stdout",
          "text": [
            "\n",
            "Customer Comments with Cluster Labels:\n",
            "                                              Comment  Cluster\n",
            "0   im so upset that my luggage was damaged and th...        0\n",
            "6   when i corrected the attendants error she gave...        0\n",
            "15  has grounded  flights bc of equipment problems...        0\n",
            "31  are people in an exit row still supposed to gi...        0\n",
            "26  currently as im bringing my  year old to the b...        0\n",
            "21  almost bumped me off my flight to hrl when i w...        0\n",
            "18  according to the flight attendant my husband d...        0\n",
            "19  your staff was really kind about the flight de...        0\n",
            "34  my bday was yesterday and my girl gave birth t...        0\n",
            "16  gate agent gave me wrong departure info and ca...        1\n",
            "25  a very tortured boarding on flight  due to one...        1\n",
            "24  your gate agent rerouted an impossible itinera...        1\n",
            "5   had a very rude gate agent at bwi tonight gate...        1\n",
            "2   agent rudely tells me youre not going  cabo to...        1\n",
            "4   rude gate agent wholly unacceptable to us amp ...        1\n",
            "7   kudos to bag handler at dtw gate  at  pm ran t...        2\n",
            "20  because your gate attendant let someone board ...        2\n",
            "22  nothing express about your express bag drop at...        2\n",
            "8             bag in possession but no clothes in bag        2\n",
            "12  just picked up my bag at seatac all the clothe...        2\n",
            "11  neveryamind i paid  for a flight  for a new ba...        2\n",
            "1   my golf bag was broken on the flight i just to...        2\n",
            "9   after an hour and a half then it came back dam...        3\n",
            "3   suggestion shades on the windows kciairport so...        3\n",
            "14     thanks for taking such good care of my luggage        3\n",
            "13  no we were in a large group majority of the  b...        3\n",
            "23  im sorry for straying and going with americana...        3\n",
            "17  the agents werenot helpful told me i would hav...        3\n",
            "27  our baggage motto we dont cover that small tea...        3\n",
            "28  we didnt nothing was ruined just wet just frus...        3\n",
            "29  weather delays arent your fault today but gett...        3\n",
            "10  everyone deserves red carpet tx until they des...        3\n",
            "30  had a bad experience with them last week  they...        3\n",
            "32  then had to watch the staff check off each pas...        3\n",
            "33  where your airline people screwed up our board...        3\n",
            "35  paid for early bird boarding and got b  i said...        3\n"
          ]
        }
      ]
    }
  ]
}